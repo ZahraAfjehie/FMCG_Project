{
 "cells": [
  {
   "cell_type": "markdown",
   "id": "a5c0cc94",
   "metadata": {},
   "source": [
    "# Choosing Competitors for FMCG Items"
   ]
  },
  {
   "cell_type": "markdown",
   "id": "5eb75147",
   "metadata": {},
   "source": [
    "## Abstract\n",
    "\n",
    "This project was initiated at the request of a consulting firm seeking a method to identify the most similar competitors for FMCG products. The purpose was to enable them to monitor these competitors and track their marketing strategies and actions. Consequently, the main objective of this project was to develop a function that could provide such recommendations to the directors. This objective was achieved by following these steps:\n",
    "\n",
    "1. Creating the initial data frames.\n",
    "2. Parsing the weight/volume values from product names.\n",
    "3. Segmenting data by subcategories and consolidating unit values within each subcategory subset.\n",
    "4. Computing sales-related metrics for each subcategory dataset.\n",
    "5. Standardizing metrics and performing data binning.\n",
    "6. Implementing a two-step clustering process.\n",
    "7. Defining the final competitor extraction function.\n",
    "8. Conducting Exploratory Data Analysis (EDA) on the results"
   ]
  },
  {
   "cell_type": "markdown",
   "id": "0ae158b5",
   "metadata": {},
   "source": [
    "## 1. Creating the initial data frames"
   ]
  },
  {
   "cell_type": "code",
   "execution_count": null,
   "id": "172c2131",
   "metadata": {},
   "outputs": [],
   "source": [
    "import numpy as np\n",
    "import pandas as pd\n",
    "import matplotlib.pyplot as plt\n",
    "import seaborn as sns\n",
    "%matplotlib inline"
   ]
  },
  {
   "cell_type": "code",
   "execution_count": null,
   "id": "818b8b6a",
   "metadata": {},
   "outputs": [],
   "source": [
    "df_order_main = pd.read_excel('...\\\\Per_Barcode_per_day_per_vendor.xlsx')"
   ]
  },
  {
   "cell_type": "code",
   "execution_count": null,
   "id": "8e42b7d9",
   "metadata": {},
   "outputs": [],
   "source": [
    "df_product_main = pd.read_excel('...\\\\ExpressMaster.xlsx')"
   ]
  },
  {
   "cell_type": "code",
   "execution_count": null,
   "id": "6b46c382",
   "metadata": {},
   "outputs": [],
   "source": [
    "df_order_main\n",
    "df_order = df_order_main.drop(df_order_main[df_order_main['Barcode']==''].index)"
   ]
  },
  {
   "cell_type": "code",
   "execution_count": null,
   "id": "c7465df9",
   "metadata": {},
   "outputs": [],
   "source": [
    "df_order['sale'] = df_order['#']*df_order['$']\n",
    "df_order"
   ]
  },
  {
   "cell_type": "code",
   "execution_count": null,
   "id": "da88203b",
   "metadata": {},
   "outputs": [],
   "source": [
    "df_product_main"
   ]
  },
  {
   "cell_type": "code",
   "execution_count": null,
   "id": "bbe462e0",
   "metadata": {},
   "outputs": [],
   "source": [
    "df_order.fillna('',inplace= True)\n",
    "df_order['Date']= pd.to_datetime(df_order['Date'])\n",
    "df_order['VendorID'] = df_order['VendorID'].astype('Int32')\n",
    "df_order['OrderID'] = df_order['OrderID'].astype('Int32')\n",
    "df_order['UserID'] = df_order['UserID'].astype('Int32')\n",
    "df_order['#'] = df_order['#'].astype('int32')\n",
    "df_order['$'] = df_order['$'].astype('int32')\n",
    "df_order['sale'] = df_order['sale'].astype('int64')\n",
    "df_order.columns = ['date','vendorID','orderID','userID','city','barcode','subCat','qty','price','sale']"
   ]
  },
  {
   "cell_type": "code",
   "execution_count": null,
   "id": "d52f2c9a",
   "metadata": {},
   "outputs": [],
   "source": [
    "df_product = df_product_main.drop(['brandName','menuActive','productActive'], axis=1)\n",
    "df_product.drop(df_product[df_product['barcode'].isnull()].index, inplace=True)\n",
    "df_product = df_product[df_product['catName']=='لبنیات و بستنی']"
   ]
  },
  {
   "cell_type": "code",
   "execution_count": null,
   "id": "60dcb188",
   "metadata": {},
   "outputs": [],
   "source": [
    "pd.set_option(\"display.max_colwidth\", None)"
   ]
  },
  {
   "cell_type": "code",
   "execution_count": null,
   "id": "f7129390",
   "metadata": {},
   "outputs": [],
   "source": [
    "df_product"
   ]
  },
  {
   "cell_type": "code",
   "execution_count": null,
   "id": "0d4b8e4b",
   "metadata": {},
   "outputs": [],
   "source": [
    "df_order"
   ]
  },
  {
   "cell_type": "markdown",
   "id": "fb7be7b6",
   "metadata": {},
   "source": [
    "## 2. Parsing the weight/volume values from product names"
   ]
  },
  {
   "cell_type": "code",
   "execution_count": null,
   "id": "ab1767ee",
   "metadata": {},
   "outputs": [],
   "source": [
    "df1=df_product['productName'].str.extractall(r'\\D*(\\d+[.,]?\\d*)(\\s*)?(گرم)?(gr)?(lit)?(ML)?(Lit)?(ml)?(کیلو)?(میلی)?(لیتر)?( سی )?(سانت)?(عدد)?( تا )?(پاکت)?(ميل)?(ليتر)?(كيلو)?(برگ)?(مثقال)?(بسته)?(باکس)?(جفت)?(mg)?(قطعه)?(نفر)?(متر)?(Kg)?(میل)?(کرم)?(کبلوگرم)?\\D*')\n",
    "df2=df_product['productName'].str.extract(r'\\D*(یک)(\\s*)?(گرم)?(gr)?(lit)?(ML)?(Lit)?(ml)?(کیلو)?(میلی)?(لیتر)?( سی )?(سانت)?(عدد)?( تا )?(پاکت)?(ميل)?(ليتر)?(كيلو)?(برگ)?(مثقال)?(بسته)?(باکس)?(جفت)?(mg)?(قطعه)?(نفر)?(متر)?(Kg)?(میل)?(کرم)?(کبلوگرم)?\\D*')"
   ]
  },
  {
   "cell_type": "code",
   "execution_count": null,
   "id": "aea544f5",
   "metadata": {},
   "outputs": [],
   "source": [
    "df1.index = df1.index.set_names(['first', 'second'])"
   ]
  },
  {
   "cell_type": "code",
   "execution_count": null,
   "id": "e318b83c",
   "metadata": {},
   "outputs": [],
   "source": [
    "df2['productName']= df_product['productName']\n",
    "df2['productID']= df_product['productID']"
   ]
  },
  {
   "cell_type": "code",
   "execution_count": null,
   "id": "b36ef12a",
   "metadata": {},
   "outputs": [],
   "source": [
    "df1 = pd.merge(df1,df2[['productID','productName']],right_index=True, left_on='first', how='inner')"
   ]
  },
  {
   "cell_type": "code",
   "execution_count": null,
   "id": "31d2e31b",
   "metadata": {},
   "outputs": [],
   "source": [
    "df1 = df1.reset_index()"
   ]
  },
  {
   "cell_type": "code",
   "execution_count": null,
   "id": "46170da8",
   "metadata": {},
   "outputs": [],
   "source": [
    "df1.drop(['first','second'],axis=1,inplace=True)"
   ]
  },
  {
   "cell_type": "markdown",
   "id": "86b8a23f",
   "metadata": {},
   "source": [
    "### Concatenating the unit different values, Deleting rows that are not unit related."
   ]
  },
  {
   "cell_type": "code",
   "execution_count": null,
   "id": "8bda5244",
   "metadata": {},
   "outputs": [],
   "source": [
    "df1.fillna('', inplace=True)\n",
    "df2.fillna('', inplace=True)"
   ]
  },
  {
   "cell_type": "code",
   "execution_count": null,
   "id": "3779094d",
   "metadata": {},
   "outputs": [],
   "source": [
    "df1"
   ]
  },
  {
   "cell_type": "code",
   "execution_count": null,
   "id": "552d3251",
   "metadata": {
    "scrolled": true
   },
   "outputs": [],
   "source": [
    "df1['unit'] = df1.iloc[:,2]\n",
    "for i in range(3,32):\n",
    "    df1['unit'] = df1.iloc[:,i] + df1['unit']\n",
    "df2['unit'] = df2.iloc[:,2]\n",
    "for i in range(3,32):\n",
    "    df2['unit'] = df2.iloc[:,i] + df2['unit']\n",
    "df1['value'] = df1.iloc[:,0]\n",
    "df2['value'] = df2.iloc[:,0]"
   ]
  },
  {
   "cell_type": "code",
   "execution_count": null,
   "id": "7ffcdcd5",
   "metadata": {},
   "outputs": [],
   "source": [
    "df1 = df1[['productID','productName','unit','value']]\n",
    "df2 = df2[['productID','productName','unit','value']]"
   ]
  },
  {
   "cell_type": "code",
   "execution_count": null,
   "id": "e22f5f78",
   "metadata": {},
   "outputs": [],
   "source": [
    "df1.drop(df1[df1['unit']==''].index, inplace=True)\n",
    "df2.drop(df2[df2['unit']==''].index, inplace=True)\n",
    "df2['value'].replace('یک','1',inplace=True)"
   ]
  },
  {
   "cell_type": "code",
   "execution_count": null,
   "id": "0c776213",
   "metadata": {},
   "outputs": [],
   "source": [
    "df1"
   ]
  },
  {
   "cell_type": "code",
   "execution_count": null,
   "id": "79a404d9",
   "metadata": {},
   "outputs": [],
   "source": [
    "df2"
   ]
  },
  {
   "cell_type": "markdown",
   "id": "ee6fac07",
   "metadata": {},
   "source": [
    "### Merging extract final results with each other and the original product df (deleting rows with two products in two dataframes and in the same dataframe)"
   ]
  },
  {
   "cell_type": "code",
   "execution_count": null,
   "id": "d860e636",
   "metadata": {},
   "outputs": [],
   "source": [
    "df = pd.merge(df1,df2,on='productID',how='outer')\n",
    "df.fillna('',inplace=True)"
   ]
  },
  {
   "cell_type": "code",
   "execution_count": null,
   "id": "c60578ae",
   "metadata": {},
   "outputs": [],
   "source": [
    "df_concat = df[(df['unit_x']!='') & (df['unit_y']!='')]"
   ]
  },
  {
   "cell_type": "code",
   "execution_count": null,
   "id": "e27180d9",
   "metadata": {},
   "outputs": [],
   "source": [
    "df_same_concat =df[df['productID'].duplicated() & ~df['unit_x'].str.contains('عدد')]"
   ]
  },
  {
   "cell_type": "code",
   "execution_count": null,
   "id": "f4a4bc4d",
   "metadata": {},
   "outputs": [],
   "source": [
    "df = pd.merge(df_product,df, on='productID', how='outer')"
   ]
  },
  {
   "cell_type": "code",
   "execution_count": null,
   "id": "aaa395ec",
   "metadata": {},
   "outputs": [],
   "source": [
    "df = df[~df.productID.isin(df_concat.productID)]"
   ]
  },
  {
   "cell_type": "code",
   "execution_count": null,
   "id": "9c3bb518",
   "metadata": {},
   "outputs": [],
   "source": [
    "df = df[~df.productID.isin(df_same_concat.productID)]"
   ]
  },
  {
   "cell_type": "code",
   "execution_count": null,
   "id": "36410d02",
   "metadata": {},
   "outputs": [],
   "source": [
    "df.fillna('',inplace=True)\n",
    "df.drop(['productName_x','productName_y'],axis=1,inplace=True)"
   ]
  },
  {
   "cell_type": "markdown",
   "id": "5d9bb759",
   "metadata": {},
   "source": [
    "### Saving rows without units or non-numeric units, replacing with numeric values manually by importing and merging file with dataframe "
   ]
  },
  {
   "cell_type": "code",
   "execution_count": null,
   "id": "2be53dcd",
   "metadata": {},
   "outputs": [],
   "source": [
    "df_null = df[(df['unit_x']=='') & (df['unit_y']=='')]"
   ]
  },
  {
   "cell_type": "code",
   "execution_count": null,
   "id": "61aed480",
   "metadata": {},
   "outputs": [],
   "source": [
    "df_adad = df[df['unit_x'].str.contains('عدد')]\n",
    "df_adad = df_adad.append(df[df['unit_y'].str.contains('عدد')])"
   ]
  },
  {
   "cell_type": "code",
   "execution_count": null,
   "id": "5a6dbf63",
   "metadata": {},
   "outputs": [],
   "source": [
    "df_null.to_excel('...\\\\without_unit.xlsx')\n",
    "df_adad.to_excel('...\\\\adad_unit.xlsx')"
   ]
  },
  {
   "cell_type": "code",
   "execution_count": null,
   "id": "08c8187b",
   "metadata": {},
   "outputs": [],
   "source": [
    "df_units = pd.read_excel('...\\\\Units_Values.xlsx')"
   ]
  },
  {
   "cell_type": "code",
   "execution_count": null,
   "id": "c25f6f21",
   "metadata": {},
   "outputs": [],
   "source": [
    "df_units"
   ]
  },
  {
   "cell_type": "code",
   "execution_count": null,
   "id": "4a6907ff",
   "metadata": {},
   "outputs": [],
   "source": [
    "df['value_x'] = df['value_x'] + df['value_y']\n",
    "df['unit_x'] = df['unit_x'] + df['unit_y']"
   ]
  },
  {
   "cell_type": "markdown",
   "id": "db89cbe0",
   "metadata": {},
   "source": [
    "### Removing rows without units, with non-numeric units"
   ]
  },
  {
   "cell_type": "code",
   "execution_count": null,
   "id": "75d4f406",
   "metadata": {},
   "outputs": [],
   "source": [
    "df = df[~df.productID.isin(df_adad.productID)]"
   ]
  },
  {
   "cell_type": "code",
   "execution_count": null,
   "id": "8b12d656",
   "metadata": {},
   "outputs": [],
   "source": [
    "df = df[~df.productID.isin(df_null.productID)]"
   ]
  },
  {
   "cell_type": "code",
   "execution_count": null,
   "id": "ea35ceae",
   "metadata": {
    "scrolled": true
   },
   "outputs": [],
   "source": [
    "df[['barcode','unit_x']] = df[['barcode','unit_x']].astype('object')\n",
    "df_units[['barcode','unit']] = df_units[['barcode','unit']].astype('object')"
   ]
  },
  {
   "cell_type": "code",
   "execution_count": null,
   "id": "2ba9042b",
   "metadata": {
    "scrolled": true
   },
   "outputs": [],
   "source": [
    "df = pd.merge (df , df_units, \n",
    "               left_on=['productID','productName','barcode','subCatID','subCatName','catName'],\n",
    "               right_on=['productID','productName','barcode','subCatID','subCatName','catName'],\n",
    "               how='outer')"
   ]
  },
  {
   "cell_type": "code",
   "execution_count": null,
   "id": "17514b78",
   "metadata": {},
   "outputs": [],
   "source": [
    "df.fillna('',inplace=True)"
   ]
  },
  {
   "cell_type": "code",
   "execution_count": null,
   "id": "94c630c8",
   "metadata": {},
   "outputs": [],
   "source": [
    "condition1 = [(df['value']==''),(df['value']!='')]\n",
    "choices = [df.loc[:,'value_x'], df.loc[:,'value']]\n",
    "df['value'] = np.select(condition1,choices, default=0)\n",
    "condition2 = [(df['unit']==''),(df['unit']!='')]\n",
    "choices = [df.loc[:,'unit_x'], df.loc[:,'unit']]\n",
    "df['unit'] = np.select(condition2,choices, default=0)\n",
    "df.drop(['unit_x','value_x','unit_y','value_y','Unnamed: 0'], axis=1, inplace=True)\n",
    "df['value'] = df['value'].astype('float')"
   ]
  },
  {
   "cell_type": "code",
   "execution_count": null,
   "id": "aa6abbca",
   "metadata": {
    "scrolled": true
   },
   "outputs": [],
   "source": [
    "df.info()"
   ]
  },
  {
   "cell_type": "markdown",
   "id": "943c9def",
   "metadata": {},
   "source": [
    "## 3. Segmenting data by subcategories and consolidating unit values"
   ]
  },
  {
   "cell_type": "markdown",
   "id": "42873b34",
   "metadata": {},
   "source": [
    "### Split Data due to Subcategory"
   ]
  },
  {
   "cell_type": "code",
   "execution_count": null,
   "id": "ce019431",
   "metadata": {},
   "outputs": [],
   "source": [
    "dtf = [d for _, d in df.groupby(['subCatID'])]"
   ]
  },
  {
   "cell_type": "markdown",
   "id": "7d593fd6",
   "metadata": {},
   "source": [
    "### Getting the units of each product and uniting all row's units (numeric ones) for each subcategory subset."
   ]
  },
  {
   "cell_type": "code",
   "execution_count": null,
   "id": "98fed5f0",
   "metadata": {},
   "outputs": [],
   "source": [
    "for i in range(0,len(dtf)):\n",
    "    dtf[i].fillna('',inplace=True)\n",
    "    dtf[i]['productID'] = dtf[i]['productID'].astype('Int32')\n",
    "    dtf[i]['subCatID'] =  dtf[i]['subCatID'].astype('Int32')\n",
    "    print('subcat Number%s'%i)\n",
    "    print(dtf[i].subCatName.unique())\n",
    "    print(dtf[i].subCatID.unique())\n",
    "    print(dtf[i].unit.unique())"
   ]
  },
  {
   "cell_type": "code",
   "execution_count": null,
   "id": "0ff81bb3",
   "metadata": {},
   "outputs": [],
   "source": [
    "for i in range(0,len(dtf)):\n",
    "    if dtf[i].subCatName.unique() == ['شیر'] or dtf[i].subCatName.unique() == ['لبنیات گیاهی']:\n",
    "        conditions = [(dtf[i]['unit'] == 'لیتر'),(dtf[i]['unit'] == 'میلی\\u200cلیتر'),(dtf[i]['unit'] == 'میلی لیتر'),\n",
    "                      (dtf[i]['unit'] == 'گرم'),(dtf[i]['unit'] == 'لیترمیلی'),(dtf[i]['unit'] == 'میل'),(dtf[i]['unit'] == 'میلی'),\n",
    "                      (dtf[i]['unit'] == 'کیلو')]\n",
    "        choices = [dtf[i]['value']*1000, dtf[i]['value'], dtf[i]['value'], dtf[i]['value'], dtf[i]['value'], dtf[i]['value'],\n",
    "                   dtf[i]['value'],dtf[i]['value']*1000]\n",
    "        dtf[i]['unit'] = 'میلی لیتر'\n",
    "    elif dtf[i].subCatName.unique() == ['بستنی و فالوده']:\n",
    "        conditions = [(dtf[i]['unit'] == 'گرم'),(dtf[i]['unit'] == 'لیتر'), (dtf[i]['unit'] == 'کیلو'),(dtf[i]['unit'] == 'میلی')]\n",
    "        choices = [dtf[i]['value'] , dtf[i]['value']*554, dtf[i]['value']*1000, dtf[i]['value']*0.554]\n",
    "        dtf[i]['unit'] = 'گرم'\n",
    "    else:\n",
    "        conditions = [(dtf[i]['unit'] == 'گرم'),(dtf[i]['unit'] == 'کیلو'),(dtf[i]['unit'] == 'کبلوگرم'),\n",
    "                   (dtf[i]['unit'] == 'میلی'),(dtf[i]['unit'] == 'کیلوگرم'),(dtf[i]['unit'] == 'لیتر'),(dtf[i]['unit'] == 'کرم')]\n",
    "        choices = [dtf[i]['value'],dtf[i]['value']*1000,dtf[i]['value']*1000, dtf[i]['value'],\n",
    "                dtf[i]['value']*1000, dtf[i]['value']*1000,dtf[i]['value']]\n",
    "        dtf[i]['unit'] = 'گرم'\n",
    "    dtf[i]['value'] = np.select(conditions,choices, default=0)"
   ]
  },
  {
   "cell_type": "markdown",
   "id": "e79522df",
   "metadata": {},
   "source": [
    "## 4. Computing sales-related metrics for each subcategory dataset"
   ]
  },
  {
   "cell_type": "code",
   "execution_count": null,
   "id": "5a203317",
   "metadata": {
    "scrolled": true
   },
   "outputs": [],
   "source": [
    "df_order['totalSale'] = df_order.groupby('barcode')['sale'].transform('sum')\n",
    "df_order['avgPrice'] = df_order.groupby('barcode')['price'].transform('mean')\n",
    "df_order.avgPrice = df_order.avgPrice.round()\n",
    "df_order['storeTurnover'] = df_order.groupby('vendorID')['sale'].transform('sum')\n",
    "df_order['productStoreTurnover'] = df_order.groupby('barcode','vendorID')['storeTurnover'].transform('sum')\n",
    "df_order['customerNum'] = df_order.groupby('barcode')['userID'].transform('nunique')\n",
    "df_order['customerNum'] = df_order['customerNum'].astype('Int32')\n",
    "df_order['avgPrice'] = df_order['avgPrice'].astype('Int32')\n",
    "df_join = df_order.drop_duplicates('barcode')"
   ]
  },
  {
   "cell_type": "code",
   "execution_count": null,
   "id": "7c348c67",
   "metadata": {},
   "outputs": [],
   "source": [
    "df_order"
   ]
  },
  {
   "cell_type": "code",
   "execution_count": null,
   "id": "9824116c",
   "metadata": {
    "scrolled": true
   },
   "outputs": [],
   "source": [
    "for i in range(0,len(dtf)):\n",
    "    dtf[i] = dtf[i].merge(df_join[['totalSale','productStoreTurnover','barcode','avgPrice','customerNum']], how='left', on='barcode')\n",
    "    dtf[i].drop(dtf[i][dtf[i]['productID'].isnull()].index,inplace=True)\n",
    "    dtf[i].drop(dtf[i][dtf[i]['totalSale'].isnull()].index,inplace=True)\n",
    "    dtf[i]['marketShare'] = dtf[i]['totalSale']/(dtf[i]['totalSale'].sum())\n",
    "    dtf[i]['penetration'] = dtf[i]['customerNum']/(dtf[i]['customerNum'].sum())\n",
    "    dtf[i]['wghtDist'] = dtf[i]['productStoreTurnover']/(dtf[i]['productStoreTurnover'].sum())\n",
    "    dtf[i].fillna('',inplace=True)\n",
    "    dtf[i].reset_index(drop=True,inplace=True)"
   ]
  },
  {
   "cell_type": "code",
   "execution_count": null,
   "id": "64071e1e",
   "metadata": {},
   "outputs": [],
   "source": [
    "for i in range(0,len(dtf)):\n",
    "    print(dtf[i].shape)"
   ]
  },
  {
   "cell_type": "markdown",
   "id": "c97b163d",
   "metadata": {},
   "source": [
    "## 5. Standardizing metrics and performing data binning"
   ]
  },
  {
   "cell_type": "code",
   "execution_count": null,
   "id": "253cfc60",
   "metadata": {
    "scrolled": true
   },
   "outputs": [],
   "source": [
    "group_names = ['very_low','low','medium','high','very_high']    \n",
    "for i in range(0,len(dtf)):\n",
    "    dtf[i]['n_value'] = dtf[i]['value']/dtf[i]['value'].sum()\n",
    "    dtf[i]['n_avgPrice'] = dtf[i]['avgPrice']/dtf[i]['avgPrice'].sum()\n",
    "    bins = np.linspace(min(dtf[i]['totalSale']), max(dtf[i]['totalSale']),6)\n",
    "    dtf[i]['totalSale_binned']= pd.cut(dtf[i]['totalSale'],bins, labels = group_names, include_lowest=True)\n",
    "    bins = np.linspace(min(dtf[i]['value']), max(dtf[i]['value']),6)\n",
    "    dtf[i]['value_binned']= pd.cut(dtf[i]['value'],bins, labels = group_names, include_lowest=True)\n",
    "    bins = np.linspace(min(dtf[i]['avgPrice']), max(dtf[i]['avgPrice']),6)\n",
    "    dtf[i]['avgPrice_binned']= pd.cut(dtf[i]['avgPrice'],bins, labels = group_names, include_lowest=True)"
   ]
  },
  {
   "cell_type": "markdown",
   "id": "be00054f",
   "metadata": {},
   "source": [
    "## 6. Implementing a two-step clustering process"
   ]
  },
  {
   "cell_type": "code",
   "execution_count": null,
   "id": "dfc40c70",
   "metadata": {},
   "outputs": [],
   "source": [
    "from sklearn.cluster import KMeans"
   ]
  },
  {
   "cell_type": "code",
   "execution_count": null,
   "id": "2cec6633",
   "metadata": {},
   "outputs": [],
   "source": [
    "kmeans_6 = KMeans(n_clusters = 6)\n",
    "kmeans_3= KMeans(n_clusters=3)\n",
    "kmeans_2 = KMeans(n_clusters=2)"
   ]
  },
  {
   "cell_type": "code",
   "execution_count": null,
   "id": "ea6c92c6",
   "metadata": {},
   "outputs": [],
   "source": [
    "label={}\n",
    "label_2={}\n",
    "for i in range(0,len(dtf)):\n",
    "    if dtf[i].subCatName.unique() == ['شیر'] or dtf[i].subCatName.unique() == ['ماست'] or dtf[i].subCatName.unique() == ['پنیر'] or dtf[i].subCatName.unique() == ['بستنی و فالوده']:\n",
    "        kmeans_6.fit(dtf[i][['n_value','n_avgPrice']])\n",
    "        label[i]= kmeans_6.labels_\n",
    "    else:\n",
    "        kmeans_3.fit(dtf[i][['n_value','n_avgPrice']])\n",
    "        label[i]= kmeans_3.labels_\n",
    "    dtf[i]['cluster'] = label[i]\n",
    "    dtf[i]['cluster_2']=np.nan\n",
    "    for j in range(0,len(label[i])):\n",
    "        if len(dtf[i][dtf[i]['cluster']==j])>2:\n",
    "            kmeans_3.fit(dtf[i][['marketShare','penetration','wghtDist']][dtf[i]['cluster']==j])\n",
    "            label_2[i]=kmeans_3.labels_\n",
    "            dtf[i]['cluster_2'][dtf[i]['cluster']==j] = label_2[i]\n",
    "            dtf[i]['cluster_2'].fillna(0,inplace=True)\n",
    "            dtf[i]['cluster_2'] = dtf[i]['cluster_2'].astype('int32')\n",
    "        else:\n",
    "            dtf[i]['cluster_2'][dtf[i]['cluster']==j] =0\n",
    "            dtf[i]['cluster_2'].fillna(0,inplace=True)\n",
    "            dtf[i]['cluster_2'] = dtf[i]['cluster_2'].astype('int32')"
   ]
  },
  {
   "cell_type": "code",
   "execution_count": null,
   "id": "31a99e69",
   "metadata": {},
   "outputs": [],
   "source": [
    "final_df=pd.DataFrame()\n",
    "for i in range(0,len(dtf)):\n",
    "    final_df = final_df.append(dtf[i],ignore_index=True)"
   ]
  },
  {
   "cell_type": "code",
   "execution_count": null,
   "id": "0958328f",
   "metadata": {},
   "outputs": [],
   "source": [
    "final_df"
   ]
  },
  {
   "cell_type": "code",
   "execution_count": null,
   "id": "d2878aff",
   "metadata": {},
   "outputs": [],
   "source": [
    "finalResults={}\n",
    "for i in range(0,8):\n",
    "    finalResults[i] = dtf[i][['productName','avgPrice','value','marketShare','penetration','wghtDist','unit','cluster','cluster_2']]\n",
    "    finalResults[i] = finalResults[i].sort_values(by='cluster')\n",
    "    finalResults[i].to_excel('...\\\\ProductCluster_SubCat(%s).xlsx'%i)"
   ]
  },
  {
   "cell_type": "markdown",
   "id": "0925f272",
   "metadata": {},
   "source": [
    "## 7. Defining the final competitor extraction function"
   ]
  },
  {
   "cell_type": "code",
   "execution_count": null,
   "id": "237bef1e",
   "metadata": {},
   "outputs": [],
   "source": [
    "def product_name_extraction(name):\n",
    "    result = final_df['productName'][final_df['productName'].str.contains(name)]\n",
    "    print(result)"
   ]
  },
  {
   "cell_type": "code",
   "execution_count": null,
   "id": "45540ef1",
   "metadata": {},
   "outputs": [],
   "source": [
    "def cluster_extraction(productName):\n",
    "    ext_index=final_df[final_df['productName']==productName].index.item()\n",
    "    ext_subCat = final_df.at[ext_index,'subCatName']\n",
    "    ext_cluster = final_df.at[ext_index,'cluster']\n",
    "    ext_cluster_2 = final_df.at[ext_index,'cluster_2']\n",
    "    ext_df=final_df[(final_df['subCatName']==ext_subCat)&(final_df['cluster']==ext_cluster)&(final_df['cluster_2']==ext_cluster_2)]\n",
    "    ext_df=ext_df[['productName','value','unit','marketShare','penetration','wghtDist']].sort_values(by='marketShare').reset_index(drop=True)\n",
    "    index=ext_df[ext_df['productName']==productName].index.item()\n",
    "    result = ext_df[index-2:index+4][:]\n",
    "    print(result.to_string(index=False))"
   ]
  },
  {
   "cell_type": "code",
   "execution_count": null,
   "id": "3fcc9538",
   "metadata": {},
   "outputs": [],
   "source": [
    "product_name_extraction('سون')"
   ]
  },
  {
   "cell_type": "code",
   "execution_count": null,
   "id": "382a3e1c",
   "metadata": {},
   "outputs": [],
   "source": [
    "cluster_extraction('ماست پرچرب 4٪ پرشین سون کاله (900 گرم)')"
   ]
  },
  {
   "cell_type": "markdown",
   "id": "27f4983f",
   "metadata": {},
   "source": [
    "## 8. Conducting Exploratory Data Analysis (EDA) on the results"
   ]
  },
  {
   "cell_type": "code",
   "execution_count": null,
   "id": "a3665b9a",
   "metadata": {},
   "outputs": [],
   "source": [
    "import matplotlib.pyplot as plt\n",
    "from matplotlib import pyplot\n",
    "import seaborn as sns\n",
    "%matplotlib inline\n",
    "import warnings\n",
    "warnings.filterwarnings('ignore')\n",
    "sns.set_style('darkgrid')\n",
    "plt.rcParams['figure.figsize']=8,4"
   ]
  },
  {
   "cell_type": "code",
   "execution_count": null,
   "id": "ba69e89a",
   "metadata": {},
   "outputs": [],
   "source": [
    "final_df.info()"
   ]
  },
  {
   "cell_type": "code",
   "execution_count": null,
   "id": "64210f82",
   "metadata": {},
   "outputs": [],
   "source": [
    "final_df"
   ]
  },
  {
   "cell_type": "code",
   "execution_count": null,
   "id": "3000fd86",
   "metadata": {},
   "outputs": [],
   "source": [
    "df_order"
   ]
  },
  {
   "cell_type": "markdown",
   "id": "30ce05be",
   "metadata": {},
   "source": [
    "### Scatter plot of clustering metrics"
   ]
  },
  {
   "cell_type": "code",
   "execution_count": null,
   "id": "690572e1",
   "metadata": {},
   "outputs": [],
   "source": [
    "g = sns.FacetGrid(final_df, col='subCatName' ,hue='cluster')\n",
    "kws=dict(s=100, linewidth=0.5, edgecolor='black')\n",
    "g= g.map(plt.scatter, 'avgPrice', 'value',**kws)"
   ]
  },
  {
   "cell_type": "code",
   "execution_count": null,
   "id": "3248507a",
   "metadata": {},
   "outputs": [],
   "source": [
    "g = sns.FacetGrid(final_df, col='subCatName' ,hue='cluster_2')\n",
    "kws=dict(s=100, linewidth=0.5, edgecolor='black')\n",
    "g= g.map(plt.scatter, 'marketShare', 'penetration',**kws)"
   ]
  },
  {
   "cell_type": "markdown",
   "id": "27a03a93",
   "metadata": {},
   "source": [
    "#### Vendor-Num of orders"
   ]
  },
  {
   "cell_type": "code",
   "execution_count": null,
   "id": "45e0ab13",
   "metadata": {},
   "outputs": [],
   "source": [
    "plt.scatter(x = df_order.vendorID.unique(), y =df_order.groupby('vendorID').agg({'orderID':pd.Series.nunique}).sort_values('orderID'))\n",
    "plt.xlabel(\"vendorID\") \n",
    "plt.ylabel(\"Orders\") \n",
    "plt.title(\"Vendor's Total Number of orders\") \n",
    "plt.show()"
   ]
  },
  {
   "cell_type": "code",
   "execution_count": null,
   "id": "5cd70c17",
   "metadata": {},
   "outputs": [],
   "source": [
    "plt.hist(x = df_order.groupby('vendorID').agg({'orderID':pd.Series.nunique}).sort_values('orderID'))\n",
    "plt.show()"
   ]
  },
  {
   "cell_type": "code",
   "execution_count": null,
   "id": "ab535493",
   "metadata": {
    "scrolled": true
   },
   "outputs": [],
   "source": [
    "plt.scatter(x = df_order.vendorID.unique(), y =df_order.groupby('vendorID').agg({'userID':pd.Series.nunique}).sort_values('userID'))\n",
    "plt.xlabel(\"vendorID\") \n",
    "plt.ylabel(\"users\") \n",
    "plt.title(\"Vendor's Total Number of user\") \n",
    "plt.show()"
   ]
  },
  {
   "cell_type": "code",
   "execution_count": null,
   "id": "360eb47f",
   "metadata": {},
   "outputs": [],
   "source": [
    "j = sns.jointplot(data=df_order, \n",
    "                  x=df_order.groupby('vendorID').agg({'userID':pd.Series.nunique}).sort_values('userID'),\n",
    "                  y=df_order.groupby('vendorID').agg({'orderID':pd.Series.nunique}).sort_values('orderID'))"
   ]
  },
  {
   "cell_type": "code",
   "execution_count": null,
   "id": "d6ebd7fd",
   "metadata": {},
   "outputs": [],
   "source": [
    "df_grp = dtf[0][['value_binned','avgPrice_binned','totalSale']].groupby(['value_binned','avgPrice_binned'],as_index=False).sum()\n",
    "df_grp['totalSale'] = df_grp['totalSale'].astype('int32')\n",
    "df_grp.info()"
   ]
  },
  {
   "cell_type": "code",
   "execution_count": null,
   "id": "42b77069",
   "metadata": {},
   "outputs": [],
   "source": [
    "df_pivot = df_grp.pivot(index='value_binned',columns='avgPrice_binned')\n",
    "df_pivot"
   ]
  },
  {
   "cell_type": "code",
   "execution_count": null,
   "id": "7e51cb6b",
   "metadata": {},
   "outputs": [],
   "source": [
    "plt.pcolor(df_pivot, cmap='RdBu')\n",
    "plt.colorbar()\n",
    "plt.show()"
   ]
  }
 ],
 "metadata": {
  "kernelspec": {
   "display_name": "Python 3 (ipykernel)",
   "language": "python",
   "name": "python3"
  },
  "language_info": {
   "codemirror_mode": {
    "name": "ipython",
    "version": 3
   },
   "file_extension": ".py",
   "mimetype": "text/x-python",
   "name": "python",
   "nbconvert_exporter": "python",
   "pygments_lexer": "ipython3",
   "version": "3.9.13"
  }
 },
 "nbformat": 4,
 "nbformat_minor": 5
}
